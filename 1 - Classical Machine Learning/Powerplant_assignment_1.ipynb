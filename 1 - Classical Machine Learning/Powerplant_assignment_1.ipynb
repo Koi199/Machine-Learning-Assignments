{
 "cells": [
  {
   "cell_type": "markdown",
   "metadata": {},
   "source": [
    "# Assignment 1 - Power Plant Prediction\n",
    "Kyle Ah Von #57862609\n",
    "\n",
    "## Summary\n",
    "Predict the Electrical Energy Output (EP) using: Multiple Regression and SVM Regression\n",
    "\n",
    "## Dataset Details\n",
    "\n",
    "- **Total Data Points:** 9,568\n",
    "- **Time Period:** 2006-2011\n",
    "- **Frequency:** Hourly averages\n",
    "\n",
    "## Features\n",
    "\n",
    "The dataset includes the following features:\n",
    "\n",
    "1. **Temperature (T)**\n",
    "   - **Description:** The temperature of the ambient environment.\n",
    "   - **Range:** 1.81°C to 37.11°C\n",
    "\n",
    "2. **Ambient Pressure (AP)**\n",
    "   - **Description:** The ambient pressure at the location of the power plant.\n",
    "   - **Range:** 992.89 to 1033.30 millibar\n",
    "\n",
    "3. **Relative Humidity (RH)**\n",
    "   - **Description:** The relative humidity of the ambient environment.\n",
    "   - **Range:** 25.56% to 100.16%\n",
    "\n",
    "4. **Exhaust Vacuum (V)**\n",
    "   - **Description:** The vacuum pressure in the exhaust system.\n",
    "   - **Range:** 25.36 to 81.56 cm Hg\n",
    "\n",
    "5. **Net Hourly Electrical Energy Output (EP)**\n",
    "   - **Description:** The net electrical energy output of the power plant per hour.\n",
    "   - **Range:** 420.26 to 495.76 MW\n",
    "\n"
   ]
  },
  {
   "cell_type": "markdown",
   "metadata": {},
   "source": [
    "# Importing Libraries"
   ]
  },
  {
   "cell_type": "code",
   "execution_count": 41,
   "metadata": {},
   "outputs": [],
   "source": [
    "# Data Manipulation\n",
    "import pandas as pd  # For data manipulation and analysis\n",
    "import numpy as np   # For numerical operations\n",
    "\n",
    "# Data Visualization\n",
    "import matplotlib.pyplot as plt  # For creating static, interactive, and animated visualizations\n",
    "import seaborn as sns            # For statistical data visualization\n",
    "\n",
    "# Machine Learning\n",
    "from sklearn.model_selection import train_test_split  # For splitting the dataset into training and testing sets\n",
    "from sklearn.preprocessing import StandardScaler, MinMaxScaler , PolynomialFeatures # For feature scaling & polynomial regression\n",
    "from sklearn.linear_model import LinearRegression  # For linear regression\n",
    "from sklearn.svm import SVR  # For Support Vector Regression\n",
    "from sklearn.metrics import mean_squared_error, mean_absolute_error, r2_score  # For model evaluation metrics"
   ]
  },
  {
   "cell_type": "markdown",
   "metadata": {},
   "source": [
    "## Import DataSet "
   ]
  },
  {
   "cell_type": "code",
   "execution_count": 42,
   "metadata": {},
   "outputs": [],
   "source": [
    "dataset = pd.read_csv('Power Plant Data.csv')"
   ]
  },
  {
   "cell_type": "markdown",
   "metadata": {},
   "source": [
    "### Visualize dataset in table"
   ]
  },
  {
   "cell_type": "code",
   "execution_count": 43,
   "metadata": {},
   "outputs": [
    {
     "data": {
      "text/html": [
       "<div>\n",
       "<style scoped>\n",
       "    .dataframe tbody tr th:only-of-type {\n",
       "        vertical-align: middle;\n",
       "    }\n",
       "\n",
       "    .dataframe tbody tr th {\n",
       "        vertical-align: top;\n",
       "    }\n",
       "\n",
       "    .dataframe thead th {\n",
       "        text-align: right;\n",
       "    }\n",
       "</style>\n",
       "<table border=\"1\" class=\"dataframe\">\n",
       "  <thead>\n",
       "    <tr style=\"text-align: right;\">\n",
       "      <th></th>\n",
       "      <th>Ambient Temperature (C)</th>\n",
       "      <th>Exhaust Vacuum (cm Hg)</th>\n",
       "      <th>Ambient Pressure (milibar)</th>\n",
       "      <th>Relative Humidity (%)</th>\n",
       "      <th>Hourly Electrical Energy output (MW)</th>\n",
       "    </tr>\n",
       "  </thead>\n",
       "  <tbody>\n",
       "    <tr>\n",
       "      <th>0</th>\n",
       "      <td>14.96</td>\n",
       "      <td>41.76</td>\n",
       "      <td>1024.07</td>\n",
       "      <td>73.17</td>\n",
       "      <td>463.26</td>\n",
       "    </tr>\n",
       "    <tr>\n",
       "      <th>1</th>\n",
       "      <td>25.18</td>\n",
       "      <td>62.96</td>\n",
       "      <td>1020.04</td>\n",
       "      <td>59.08</td>\n",
       "      <td>444.37</td>\n",
       "    </tr>\n",
       "    <tr>\n",
       "      <th>2</th>\n",
       "      <td>5.11</td>\n",
       "      <td>39.40</td>\n",
       "      <td>1012.16</td>\n",
       "      <td>92.14</td>\n",
       "      <td>488.56</td>\n",
       "    </tr>\n",
       "    <tr>\n",
       "      <th>3</th>\n",
       "      <td>20.86</td>\n",
       "      <td>57.32</td>\n",
       "      <td>1010.24</td>\n",
       "      <td>76.64</td>\n",
       "      <td>446.48</td>\n",
       "    </tr>\n",
       "    <tr>\n",
       "      <th>4</th>\n",
       "      <td>10.82</td>\n",
       "      <td>37.50</td>\n",
       "      <td>1009.23</td>\n",
       "      <td>96.62</td>\n",
       "      <td>473.90</td>\n",
       "    </tr>\n",
       "  </tbody>\n",
       "</table>\n",
       "</div>"
      ],
      "text/plain": [
       "   Ambient Temperature (C)   Exhaust Vacuum (cm Hg)  \\\n",
       "0                     14.96                   41.76   \n",
       "1                     25.18                   62.96   \n",
       "2                      5.11                   39.40   \n",
       "3                     20.86                   57.32   \n",
       "4                     10.82                   37.50   \n",
       "\n",
       "   Ambient Pressure (milibar)  Relative Humidity (%)  \\\n",
       "0                     1024.07                  73.17   \n",
       "1                     1020.04                  59.08   \n",
       "2                     1012.16                  92.14   \n",
       "3                     1010.24                  76.64   \n",
       "4                     1009.23                  96.62   \n",
       "\n",
       "   Hourly Electrical Energy output (MW)  \n",
       "0                                463.26  \n",
       "1                                444.37  \n",
       "2                                488.56  \n",
       "3                                446.48  \n",
       "4                                473.90  "
      ]
     },
     "execution_count": 43,
     "metadata": {},
     "output_type": "execute_result"
    }
   ],
   "source": [
    "# Set the float format to 2 decimal - data does not have more than 2 significant figures after decimal point\n",
    "pd.options.display.float_format = '{:.2f}'.format\n",
    "\n",
    "# Display the first few rows as sample\n",
    "dataset.head()"
   ]
  },
  {
   "cell_type": "markdown",
   "metadata": {},
   "source": [
    "All the columns have numerical data. All the columns contain useful information for the model. "
   ]
  },
  {
   "cell_type": "markdown",
   "metadata": {},
   "source": [
    "## Review of Data\n",
    "Primarily to check if we have missing data"
   ]
  },
  {
   "cell_type": "code",
   "execution_count": 44,
   "metadata": {},
   "outputs": [
    {
     "name": "stdout",
     "output_type": "stream",
     "text": [
      "<class 'pandas.core.frame.DataFrame'>\n",
      "RangeIndex: 9568 entries, 0 to 9567\n",
      "Data columns (total 5 columns):\n",
      " #   Column                                Non-Null Count  Dtype  \n",
      "---  ------                                --------------  -----  \n",
      " 0   Ambient Temperature (C)               9568 non-null   float64\n",
      " 1   Exhaust Vacuum (cm Hg)                9568 non-null   float64\n",
      " 2   Ambient Pressure (milibar)            9568 non-null   float64\n",
      " 3   Relative Humidity (%)                 9568 non-null   float64\n",
      " 4   Hourly Electrical Energy output (MW)  9568 non-null   float64\n",
      "dtypes: float64(5)\n",
      "memory usage: 373.9 KB\n"
     ]
    }
   ],
   "source": [
    "dataset.info()"
   ]
  },
  {
   "cell_type": "markdown",
   "metadata": {},
   "source": [
    "Conveniently, there is no missing data in any rows, woohoo!\n",
    "Also, there is no categorical data, there is no need to encode the data."
   ]
  },
  {
   "cell_type": "markdown",
   "metadata": {},
   "source": [
    "## Separate Inputs and Outputs"
   ]
  },
  {
   "cell_type": "code",
   "execution_count": 45,
   "metadata": {},
   "outputs": [],
   "source": [
    "Y = dataset.iloc[:, 4] # sets last column as output\n",
    "X = dataset.iloc[:, :4] # sets the first 4 columns as input\n"
   ]
  },
  {
   "cell_type": "markdown",
   "metadata": {},
   "source": [
    "## Split data into Training and Testing "
   ]
  },
  {
   "cell_type": "code",
   "execution_count": 46,
   "metadata": {},
   "outputs": [
    {
     "data": {
      "text/html": [
       "<div>\n",
       "<style scoped>\n",
       "    .dataframe tbody tr th:only-of-type {\n",
       "        vertical-align: middle;\n",
       "    }\n",
       "\n",
       "    .dataframe tbody tr th {\n",
       "        vertical-align: top;\n",
       "    }\n",
       "\n",
       "    .dataframe thead th {\n",
       "        text-align: right;\n",
       "    }\n",
       "</style>\n",
       "<table border=\"1\" class=\"dataframe\">\n",
       "  <thead>\n",
       "    <tr style=\"text-align: right;\">\n",
       "      <th></th>\n",
       "      <th>Ambient Temperature (C)</th>\n",
       "      <th>Exhaust Vacuum (cm Hg)</th>\n",
       "      <th>Ambient Pressure (milibar)</th>\n",
       "      <th>Relative Humidity (%)</th>\n",
       "    </tr>\n",
       "  </thead>\n",
       "  <tbody>\n",
       "    <tr>\n",
       "      <th>9061</th>\n",
       "      <td>6.61</td>\n",
       "      <td>38.91</td>\n",
       "      <td>1015.77</td>\n",
       "      <td>92.31</td>\n",
       "    </tr>\n",
       "    <tr>\n",
       "      <th>6937</th>\n",
       "      <td>22.72</td>\n",
       "      <td>65.61</td>\n",
       "      <td>1014.64</td>\n",
       "      <td>70.53</td>\n",
       "    </tr>\n",
       "    <tr>\n",
       "      <th>5631</th>\n",
       "      <td>10.06</td>\n",
       "      <td>39.61</td>\n",
       "      <td>1018.22</td>\n",
       "      <td>70.22</td>\n",
       "    </tr>\n",
       "    <tr>\n",
       "      <th>6218</th>\n",
       "      <td>27.53</td>\n",
       "      <td>67.83</td>\n",
       "      <td>1009.40</td>\n",
       "      <td>53.73</td>\n",
       "    </tr>\n",
       "    <tr>\n",
       "      <th>1362</th>\n",
       "      <td>23.89</td>\n",
       "      <td>48.41</td>\n",
       "      <td>1010.48</td>\n",
       "      <td>62.31</td>\n",
       "    </tr>\n",
       "  </tbody>\n",
       "</table>\n",
       "</div>"
      ],
      "text/plain": [
       "      Ambient Temperature (C)   Exhaust Vacuum (cm Hg)  \\\n",
       "9061                      6.61                   38.91   \n",
       "6937                     22.72                   65.61   \n",
       "5631                     10.06                   39.61   \n",
       "6218                     27.53                   67.83   \n",
       "1362                     23.89                   48.41   \n",
       "\n",
       "      Ambient Pressure (milibar)  Relative Humidity (%)  \n",
       "9061                     1015.77                  92.31  \n",
       "6937                     1014.64                  70.53  \n",
       "5631                     1018.22                  70.22  \n",
       "6218                     1009.40                  53.73  \n",
       "1362                     1010.48                  62.31  "
      ]
     },
     "execution_count": 46,
     "metadata": {},
     "output_type": "execute_result"
    }
   ],
   "source": [
    "X_train, X_test, y_train, y_test = train_test_split(X, Y, test_size=0.2, random_state=1)\n",
    "\n",
    "#Visualize the training input data\n",
    "X_train.head()\n"
   ]
  },
  {
   "cell_type": "markdown",
   "metadata": {},
   "source": [
    "## Scale data - Standardization\n",
    "Since each input feature has a difference range of values, scaling the data would reduce the bias on features with bigger absolute values. "
   ]
  },
  {
   "cell_type": "code",
   "execution_count": 47,
   "metadata": {},
   "outputs": [
    {
     "name": "stdout",
     "output_type": "stream",
     "text": [
      "[[-1.75440309 -1.21216858  0.42112637  1.3027435 ]\n",
      " [ 0.41388954  0.88854693  0.23226259 -0.1942825 ]\n",
      " [-1.29005737 -1.15709364  0.83060976 -0.21559003]\n",
      " ...\n",
      " [-0.1419794  -1.16260113 -0.78392477 -0.32625174]\n",
      " [ 0.44619185 -0.73222983 -0.17387808 -1.54971652]\n",
      " [ 0.11509316 -0.36401453 -0.61010325 -0.17503699]]\n"
     ]
    }
   ],
   "source": [
    "sc_x = StandardScaler()\n",
    "\n",
    "#Fit and transform\n",
    "X_train_scaled = sc_x.fit_transform(X_train)\n",
    "X_test_scaled = sc_x.transform(X_test)\n",
    "\n",
    "#View Scaled data\n",
    "print(X_train_scaled)"
   ]
  },
  {
   "cell_type": "markdown",
   "metadata": {},
   "source": [
    "## Regressions\n",
    "\n",
    "### Simple Linear Regression Model \n",
    "In the case of multiple inputs, the model assigns a separate coefficient to each of the input features which are Ambient Temperature, Exhaust Vaccum, Ambient Pressure and Relative Humidity. These coefficients represent the weight or importance of each feature in predicting the output. \n",
    "\n",
    "The prediction is made by taking a linear combination of these features. The model then uses an optimization algorithm to find the best values for these coefficients that minimize the prediction error across the training data. "
   ]
  },
  {
   "cell_type": "code",
   "execution_count": 48,
   "metadata": {},
   "outputs": [],
   "source": [
    "# Apply linear regression\n",
    "LinearRegModel = LinearRegression()\n",
    "LinearRegModel.fit(X_train_scaled, y_train)\n",
    "\n",
    "# Predict on test data\n",
    "y_simple_pred_train = LinearRegModel.predict(X_train_scaled)\n",
    "y_simple_pred_test = LinearRegModel.predict(X_test_scaled)\n"
   ]
  },
  {
   "cell_type": "markdown",
   "metadata": {},
   "source": [
    "### Polynomial Regression Model\n",
    "\n",
    "In this section, we will up the complexity of the model by fitting a polynomial function. The code will iteration over a few polynomial degrees and spit out the results on a visualization. "
   ]
  },
  {
   "cell_type": "code",
   "execution_count": 52,
   "metadata": {},
   "outputs": [
    {
     "data": {
      "image/png": "[encoded data removed]",
      "text/plain": [
       "<Figure size 1200x600 with 1 Axes>"
      ]
     },
     "metadata": {},
     "output_type": "display_data"
    }
   ],
   "source": [
    "# Apply polynomial Regression\n",
    "\n",
    "results = []\n",
    "\n",
    "for degree in range(1, 8):\n",
    "    #create and fit the polynomial regression model\n",
    "    poly_reg = PolynomialFeatures(degree)\n",
    "    X_poly = poly_reg.fit_transform(X_train_scaled)\n",
    "    X_poly_test = poly_reg.transform(X_test_scaled)\n",
    "    poly_model = LinearRegression()\n",
    "    poly_model.fit(X_poly, y_train)\n",
    "\n",
    "    # Make Predictions\n",
    "    y_poly_pred_train = poly_model.predict(X_poly)\n",
    "    y_poly_pred_test = poly_model.predict(X_poly_test)\n",
    "\n",
    "    # Calculate metrics (r2_score)\n",
    "    r2_train = r2_score(y_train, y_poly_pred_train)\n",
    "    r2_test = r2_score(y_test, y_poly_pred_test)\n",
    "\n",
    "    results.append({\n",
    "        'Degree': degree,\n",
    "        'R2 (Train)': r2_train, \n",
    "        'R2 (Test)': r2_test\n",
    "    })\n",
    "\n",
    "    #Convert results to a DataFrame\n",
    "    results_df = pd.DataFrame(results)\n",
    "\n",
    "    # Find the best model based on test R2 score\n",
    "    best_model = results_df.loc[results_df['R2 (Test)'].idxmax()]\n",
    "    \n",
    "\n",
    "plt.figure(figsize=(12, 6))\n",
    "plt.plot(results_df['Degree'], results_df['R2 (Train)'], label='R2 (Train)')\n",
    "plt.plot(results_df['Degree'], results_df['R2 (Test)'], label='R2 (Test)')\n",
    "plt.xlabel('Polynomial Degree')\n",
    "plt.ylabel('R2 Score')\n",
    "plt.title('R2 Score vs Polynomial Degree')\n",
    "plt.legend()\n",
    "plt.show()\n"
   ]
  },
  {
   "cell_type": "markdown",
   "metadata": {},
   "source": [
    "### Test model"
   ]
  },
  {
   "cell_type": "code",
   "execution_count": 37,
   "metadata": {},
   "outputs": [],
   "source": [
    "Linearmse = mean_squared_error(y_test, y_pred)\n",
    "LinearR2 = r2_score(y_test, y_pred)\n"
   ]
  }
 ],
 "metadata": {
  "kernelspec": {
   "display_name": "Python 3",
   "language": "python",
   "name": "python3"
  },
  "language_info": {
   "codemirror_mode": {
    "name": "ipython",
    "version": 3
   },
   "file_extension": ".py",
   "mimetype": "text/x-python",
   "name": "python",
   "nbconvert_exporter": "python",
   "pygments_lexer": "ipython3",
   "version": "3.9.13"
  }
 },
 "nbformat": 4,
 "nbformat_minor": 2
}
