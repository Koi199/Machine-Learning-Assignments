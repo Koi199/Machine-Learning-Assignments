{
 "cells": [
  {
   "cell_type": "markdown",
   "metadata": {
    "id": "iAFmDBEA3xkK"
   },
   "source": [
    "# Assignment 6 - Personality vs Shoes"
   ]
  },
  {
   "cell_type": "markdown",
   "metadata": {
    "id": "eX48TNK23xkL"
   },
   "source": [
    "The model will use a CNN to predict the personality associated to your favorite shoe.\n",
    "\n",
    "We will first train a CNN to recognize shoes based on a given image, then use the result to make a prediction on the personality.\n",
    "\n",
    "The model is trained to recognized multiple types of shoes:\n",
    "1. Boat Shoes\n",
    "2. Boots\n",
    "3. Clogs and Mules\n",
    "4. Flats\n",
    "5. Heels\n",
    "6. Loafers\n",
    "7. Oxfords\n",
    "8. Slippers\n",
    "9. Sneakers and Athletics Shoes\n",
    "\n",
    "The model then uses the results of the image recognition to predict the personality that someone might have based on the table below:\n",
    "\n",
    "| Shoe Type                 | Personality Type                                                                                 |\n",
    "|---------------------------|--------------------------------------------------------------------------------------------------|\n",
    "| Sneakers and Athletic Shoes | You are an energetic person who values fitness and achievement.                                |\n",
    "| Oxfords                   | You value professionalism and take pride in your appearance.                                    |\n",
    "| Clogs and Mules           | You prioritize comfort and have a relaxed, adaptable personality.                               |\n",
    "| Heels                     | You appreciate quality and have refined tastes.                                                 |\n",
    "| Flats                | You value simplicity and efficiency in your life.                                               |\n",
    "| Boots                     | You are practical and value reliability in your endeavors.                                      |\n",
    "| Slippers                  | You have a free-spirited nature and value comfort.                                              |\n",
    "| Loafers                   | You appreciate timeless values and consistency.                                                 |\n",
    "| Boat Shoes                   | You are socially aware and enjoy expressing yourself.                                           |\n",
    "\n",
    "\n",
    "The Model is trained with 12000 images out of the original 50000. The images that have been removed are the kids shoes then balanced the 9 types of shoes of interest to have at around 1100 images each.\n",
    "\n",
    "The goal of the model is to input the image of your favorite shoe, and it will predict the personality type you belong to the most.\n",
    "\n",
    "\n",
    "\n"
   ]
  },
  {
   "cell_type": "code",
   "execution_count": 1,
   "metadata": {
    "id": "irhS0lfo3xkL"
   },
   "outputs": [],
   "source": [
    "# Importing Libraries\n",
    "import tensorflow as tf\n",
    "from tensorflow import keras\n",
    "from keras import preprocessing\n",
    "import matplotlib.pyplot as plt"
   ]
  },
  {
   "cell_type": "code",
   "execution_count": null,
   "metadata": {
    "colab": {
     "base_uri": "https://localhost:8080/"
    },
    "collapsed": true,
    "id": "rylBzNL8B8Bt",
    "outputId": "261b2e0b-d0b2-4743-90ef-cb2cbc6aa02a"
   },
   "outputs": [],
   "source": [
    "# prompt: How to unzip a compressed file called Dataset.zip\n",
    "\n",
    "!unzip Dataset.zip\n"
   ]
  },
  {
   "cell_type": "markdown",
   "metadata": {
    "id": "gifO0bx_3xkM"
   },
   "source": [
    "# Data Preprocessing"
   ]
  },
  {
   "cell_type": "code",
   "execution_count": 3,
   "metadata": {
    "colab": {
     "base_uri": "https://localhost:8080/"
    },
    "id": "fNOetAed3xkM",
    "outputId": "e52870c4-8a4b-433a-89f7-d28310ca8e86"
   },
   "outputs": [
    {
     "name": "stdout",
     "output_type": "stream",
     "text": [
      "Found 10055 images belonging to 9 classes.\n",
      "Found 2512 images belonging to 9 classes.\n",
      "Number of training images: 10055\n",
      "Number of validation images: 2512\n"
     ]
    }
   ],
   "source": [
    "data_dir = \"Dataset\"\n",
    "\n",
    "# Create an ImageDataGenerator with a validation split\n",
    "datagen = tf.keras.preprocessing.image.ImageDataGenerator(\n",
    "    rescale=1./255,\n",
    "    featurewise_center=True,  # Center pixel values\n",
    "    featurewise_std_normalization=True,  # Normalize pixel values\n",
    "    validation_split=0.2,  # 20% of the data will be used for validation\n",
    "    rotation_range=30,  # Rotate up to 30 degrees\n",
    "    width_shift_range=0.2,  # Shift width by 20%\n",
    "    height_shift_range=0.2,  # Shift height by 20%\n",
    "    shear_range=0.2,  # Shear transformation\n",
    "    brightness_range=(0.7, 1.3),  # Adjust brightness\n",
    "    channel_shift_range=30.0,  # Adjust channel shifts\n",
    "    fill_mode='nearest',  # Filling mode\n",
    "    zoom_range=0.2,  # Random zoom\n",
    "    horizontal_flip=True,  # Horizontal flipping\n",
    "    vertical_flip=True  # Vertical flipping\n",
    ")\n",
    "\n",
    "# Fit the generator on the training data if you use normalization or centering\n",
    "# datagen.fit(train_data)  # Optional\n",
    "\n",
    "# Load training data\n",
    "train_data = datagen.flow_from_directory(\n",
    "    data_dir,\n",
    "    target_size=(150, 150),\n",
    "    batch_size=32,\n",
    "    class_mode='categorical',\n",
    "    subset='training',  # Specify this as training set\n",
    "    shuffle=True  # Shuffle the data to improve training\n",
    ")\n",
    "\n",
    "# Load validation data\n",
    "val_data = datagen.flow_from_directory(\n",
    "    data_dir,\n",
    "    target_size=(150, 150),\n",
    "    batch_size=32,\n",
    "    class_mode='categorical',\n",
    "    subset='validation',  # Specify this as validation set\n",
    "    shuffle=True  # Shuffle the data to improve validation\n",
    ")\n",
    "\n",
    "# Optional: Check the number of images in each set\n",
    "print(f\"Number of training images: {train_data.samples}\")\n",
    "print(f\"Number of validation images: {val_data.samples}\")\n"
   ]
  },
  {
   "cell_type": "markdown",
   "metadata": {
    "id": "AVSNABSU3xkM"
   },
   "source": [
    "# Building the CNN Model"
   ]
  },
  {
   "cell_type": "code",
   "execution_count": 26,
   "metadata": {
    "colab": {
     "base_uri": "https://localhost:8080/",
     "height": 476
    },
    "id": "05bebXR43xkN",
    "outputId": "e6a4eff8-57fb-4708-b8c1-0fa730ac2455"
   },
   "outputs": [
    {
     "data": {
      "text/html": [
       "<pre style=\"white-space:pre;overflow-x:auto;line-height:normal;font-family:Menlo,'DejaVu Sans Mono',consolas,'Courier New',monospace\"><span style=\"font-weight: bold\">Model: \"sequential_2\"</span>\n",
       "</pre>\n"
      ],
      "text/plain": [
       "\u001b[1mModel: \"sequential_2\"\u001b[0m\n"
      ]
     },
     "metadata": {},
     "output_type": "display_data"
    },
    {
     "data": {
      "text/html": [
       "<pre style=\"white-space:pre;overflow-x:auto;line-height:normal;font-family:Menlo,'DejaVu Sans Mono',consolas,'Courier New',monospace\">┏━━━━━━━━━━━━━━━━━━━━━━━━━━━━━━━━━━━━━━┳━━━━━━━━━━━━━━━━━━━━━━━━━━━━━┳━━━━━━━━━━━━━━━━━┓\n",
       "┃<span style=\"font-weight: bold\"> Layer (type)                         </span>┃<span style=\"font-weight: bold\"> Output Shape                </span>┃<span style=\"font-weight: bold\">         Param # </span>┃\n",
       "┡━━━━━━━━━━━━━━━━━━━━━━━━━━━━━━━━━━━━━━╇━━━━━━━━━━━━━━━━━━━━━━━━━━━━━╇━━━━━━━━━━━━━━━━━┩\n",
       "│ conv2d_9 (<span style=\"color: #0087ff; text-decoration-color: #0087ff\">Conv2D</span>)                    │ (<span style=\"color: #00d7ff; text-decoration-color: #00d7ff\">None</span>, <span style=\"color: #00af00; text-decoration-color: #00af00\">148</span>, <span style=\"color: #00af00; text-decoration-color: #00af00\">148</span>, <span style=\"color: #00af00; text-decoration-color: #00af00\">16</span>)        │             <span style=\"color: #00af00; text-decoration-color: #00af00\">448</span> │\n",
       "├──────────────────────────────────────┼─────────────────────────────┼─────────────────┤\n",
       "│ max_pooling2d_6 (<span style=\"color: #0087ff; text-decoration-color: #0087ff\">MaxPooling2D</span>)       │ (<span style=\"color: #00d7ff; text-decoration-color: #00d7ff\">None</span>, <span style=\"color: #00af00; text-decoration-color: #00af00\">74</span>, <span style=\"color: #00af00; text-decoration-color: #00af00\">74</span>, <span style=\"color: #00af00; text-decoration-color: #00af00\">16</span>)          │               <span style=\"color: #00af00; text-decoration-color: #00af00\">0</span> │\n",
       "├──────────────────────────────────────┼─────────────────────────────┼─────────────────┤\n",
       "│ conv2d_10 (<span style=\"color: #0087ff; text-decoration-color: #0087ff\">Conv2D</span>)                   │ (<span style=\"color: #00d7ff; text-decoration-color: #00d7ff\">None</span>, <span style=\"color: #00af00; text-decoration-color: #00af00\">72</span>, <span style=\"color: #00af00; text-decoration-color: #00af00\">72</span>, <span style=\"color: #00af00; text-decoration-color: #00af00\">32</span>)          │           <span style=\"color: #00af00; text-decoration-color: #00af00\">4,640</span> │\n",
       "├──────────────────────────────────────┼─────────────────────────────┼─────────────────┤\n",
       "│ max_pooling2d_7 (<span style=\"color: #0087ff; text-decoration-color: #0087ff\">MaxPooling2D</span>)       │ (<span style=\"color: #00d7ff; text-decoration-color: #00d7ff\">None</span>, <span style=\"color: #00af00; text-decoration-color: #00af00\">36</span>, <span style=\"color: #00af00; text-decoration-color: #00af00\">36</span>, <span style=\"color: #00af00; text-decoration-color: #00af00\">32</span>)          │               <span style=\"color: #00af00; text-decoration-color: #00af00\">0</span> │\n",
       "├──────────────────────────────────────┼─────────────────────────────┼─────────────────┤\n",
       "│ conv2d_11 (<span style=\"color: #0087ff; text-decoration-color: #0087ff\">Conv2D</span>)                   │ (<span style=\"color: #00d7ff; text-decoration-color: #00d7ff\">None</span>, <span style=\"color: #00af00; text-decoration-color: #00af00\">34</span>, <span style=\"color: #00af00; text-decoration-color: #00af00\">34</span>, <span style=\"color: #00af00; text-decoration-color: #00af00\">64</span>)          │          <span style=\"color: #00af00; text-decoration-color: #00af00\">18,496</span> │\n",
       "├──────────────────────────────────────┼─────────────────────────────┼─────────────────┤\n",
       "│ max_pooling2d_8 (<span style=\"color: #0087ff; text-decoration-color: #0087ff\">MaxPooling2D</span>)       │ (<span style=\"color: #00d7ff; text-decoration-color: #00d7ff\">None</span>, <span style=\"color: #00af00; text-decoration-color: #00af00\">17</span>, <span style=\"color: #00af00; text-decoration-color: #00af00\">17</span>, <span style=\"color: #00af00; text-decoration-color: #00af00\">64</span>)          │               <span style=\"color: #00af00; text-decoration-color: #00af00\">0</span> │\n",
       "├──────────────────────────────────────┼─────────────────────────────┼─────────────────┤\n",
       "│ flatten_2 (<span style=\"color: #0087ff; text-decoration-color: #0087ff\">Flatten</span>)                  │ (<span style=\"color: #00d7ff; text-decoration-color: #00d7ff\">None</span>, <span style=\"color: #00af00; text-decoration-color: #00af00\">18496</span>)               │               <span style=\"color: #00af00; text-decoration-color: #00af00\">0</span> │\n",
       "├──────────────────────────────────────┼─────────────────────────────┼─────────────────┤\n",
       "│ dense_5 (<span style=\"color: #0087ff; text-decoration-color: #0087ff\">Dense</span>)                      │ (<span style=\"color: #00d7ff; text-decoration-color: #00d7ff\">None</span>, <span style=\"color: #00af00; text-decoration-color: #00af00\">128</span>)                 │       <span style=\"color: #00af00; text-decoration-color: #00af00\">2,367,616</span> │\n",
       "├──────────────────────────────────────┼─────────────────────────────┼─────────────────┤\n",
       "│ dropout_3 (<span style=\"color: #0087ff; text-decoration-color: #0087ff\">Dropout</span>)                  │ (<span style=\"color: #00d7ff; text-decoration-color: #00d7ff\">None</span>, <span style=\"color: #00af00; text-decoration-color: #00af00\">128</span>)                 │               <span style=\"color: #00af00; text-decoration-color: #00af00\">0</span> │\n",
       "├──────────────────────────────────────┼─────────────────────────────┼─────────────────┤\n",
       "│ dense_6 (<span style=\"color: #0087ff; text-decoration-color: #0087ff\">Dense</span>)                      │ (<span style=\"color: #00d7ff; text-decoration-color: #00d7ff\">None</span>, <span style=\"color: #00af00; text-decoration-color: #00af00\">9</span>)                   │           <span style=\"color: #00af00; text-decoration-color: #00af00\">1,161</span> │\n",
       "└──────────────────────────────────────┴─────────────────────────────┴─────────────────┘\n",
       "</pre>\n"
      ],
      "text/plain": [
       "┏━━━━━━━━━━━━━━━━━━━━━━━━━━━━━━━━━━━━━━┳━━━━━━━━━━━━━━━━━━━━━━━━━━━━━┳━━━━━━━━━━━━━━━━━┓\n",
       "┃\u001b[1m \u001b[0m\u001b[1mLayer (type)                        \u001b[0m\u001b[1m \u001b[0m┃\u001b[1m \u001b[0m\u001b[1mOutput Shape               \u001b[0m\u001b[1m \u001b[0m┃\u001b[1m \u001b[0m\u001b[1m        Param #\u001b[0m\u001b[1m \u001b[0m┃\n",
       "┡━━━━━━━━━━━━━━━━━━━━━━━━━━━━━━━━━━━━━━╇━━━━━━━━━━━━━━━━━━━━━━━━━━━━━╇━━━━━━━━━━━━━━━━━┩\n",
       "│ conv2d_9 (\u001b[38;5;33mConv2D\u001b[0m)                    │ (\u001b[38;5;45mNone\u001b[0m, \u001b[38;5;34m148\u001b[0m, \u001b[38;5;34m148\u001b[0m, \u001b[38;5;34m16\u001b[0m)        │             \u001b[38;5;34m448\u001b[0m │\n",
       "├──────────────────────────────────────┼─────────────────────────────┼─────────────────┤\n",
       "│ max_pooling2d_6 (\u001b[38;5;33mMaxPooling2D\u001b[0m)       │ (\u001b[38;5;45mNone\u001b[0m, \u001b[38;5;34m74\u001b[0m, \u001b[38;5;34m74\u001b[0m, \u001b[38;5;34m16\u001b[0m)          │               \u001b[38;5;34m0\u001b[0m │\n",
       "├──────────────────────────────────────┼─────────────────────────────┼─────────────────┤\n",
       "│ conv2d_10 (\u001b[38;5;33mConv2D\u001b[0m)                   │ (\u001b[38;5;45mNone\u001b[0m, \u001b[38;5;34m72\u001b[0m, \u001b[38;5;34m72\u001b[0m, \u001b[38;5;34m32\u001b[0m)          │           \u001b[38;5;34m4,640\u001b[0m │\n",
       "├──────────────────────────────────────┼─────────────────────────────┼─────────────────┤\n",
       "│ max_pooling2d_7 (\u001b[38;5;33mMaxPooling2D\u001b[0m)       │ (\u001b[38;5;45mNone\u001b[0m, \u001b[38;5;34m36\u001b[0m, \u001b[38;5;34m36\u001b[0m, \u001b[38;5;34m32\u001b[0m)          │               \u001b[38;5;34m0\u001b[0m │\n",
       "├──────────────────────────────────────┼─────────────────────────────┼─────────────────┤\n",
       "│ conv2d_11 (\u001b[38;5;33mConv2D\u001b[0m)                   │ (\u001b[38;5;45mNone\u001b[0m, \u001b[38;5;34m34\u001b[0m, \u001b[38;5;34m34\u001b[0m, \u001b[38;5;34m64\u001b[0m)          │          \u001b[38;5;34m18,496\u001b[0m │\n",
       "├──────────────────────────────────────┼─────────────────────────────┼─────────────────┤\n",
       "│ max_pooling2d_8 (\u001b[38;5;33mMaxPooling2D\u001b[0m)       │ (\u001b[38;5;45mNone\u001b[0m, \u001b[38;5;34m17\u001b[0m, \u001b[38;5;34m17\u001b[0m, \u001b[38;5;34m64\u001b[0m)          │               \u001b[38;5;34m0\u001b[0m │\n",
       "├──────────────────────────────────────┼─────────────────────────────┼─────────────────┤\n",
       "│ flatten_2 (\u001b[38;5;33mFlatten\u001b[0m)                  │ (\u001b[38;5;45mNone\u001b[0m, \u001b[38;5;34m18496\u001b[0m)               │               \u001b[38;5;34m0\u001b[0m │\n",
       "├──────────────────────────────────────┼─────────────────────────────┼─────────────────┤\n",
       "│ dense_5 (\u001b[38;5;33mDense\u001b[0m)                      │ (\u001b[38;5;45mNone\u001b[0m, \u001b[38;5;34m128\u001b[0m)                 │       \u001b[38;5;34m2,367,616\u001b[0m │\n",
       "├──────────────────────────────────────┼─────────────────────────────┼─────────────────┤\n",
       "│ dropout_3 (\u001b[38;5;33mDropout\u001b[0m)                  │ (\u001b[38;5;45mNone\u001b[0m, \u001b[38;5;34m128\u001b[0m)                 │               \u001b[38;5;34m0\u001b[0m │\n",
       "├──────────────────────────────────────┼─────────────────────────────┼─────────────────┤\n",
       "│ dense_6 (\u001b[38;5;33mDense\u001b[0m)                      │ (\u001b[38;5;45mNone\u001b[0m, \u001b[38;5;34m9\u001b[0m)                   │           \u001b[38;5;34m1,161\u001b[0m │\n",
       "└──────────────────────────────────────┴─────────────────────────────┴─────────────────┘\n"
      ]
     },
     "metadata": {},
     "output_type": "display_data"
    },
    {
     "data": {
      "text/html": [
       "<pre style=\"white-space:pre;overflow-x:auto;line-height:normal;font-family:Menlo,'DejaVu Sans Mono',consolas,'Courier New',monospace\"><span style=\"font-weight: bold\"> Total params: </span><span style=\"color: #00af00; text-decoration-color: #00af00\">2,392,361</span> (9.13 MB)\n",
       "</pre>\n"
      ],
      "text/plain": [
       "\u001b[1m Total params: \u001b[0m\u001b[38;5;34m2,392,361\u001b[0m (9.13 MB)\n"
      ]
     },
     "metadata": {},
     "output_type": "display_data"
    },
    {
     "data": {
      "text/html": [
       "<pre style=\"white-space:pre;overflow-x:auto;line-height:normal;font-family:Menlo,'DejaVu Sans Mono',consolas,'Courier New',monospace\"><span style=\"font-weight: bold\"> Trainable params: </span><span style=\"color: #00af00; text-decoration-color: #00af00\">2,392,361</span> (9.13 MB)\n",
       "</pre>\n"
      ],
      "text/plain": [
       "\u001b[1m Trainable params: \u001b[0m\u001b[38;5;34m2,392,361\u001b[0m (9.13 MB)\n"
      ]
     },
     "metadata": {},
     "output_type": "display_data"
    },
    {
     "data": {
      "text/html": [
       "<pre style=\"white-space:pre;overflow-x:auto;line-height:normal;font-family:Menlo,'DejaVu Sans Mono',consolas,'Courier New',monospace\"><span style=\"font-weight: bold\"> Non-trainable params: </span><span style=\"color: #00af00; text-decoration-color: #00af00\">0</span> (0.00 B)\n",
       "</pre>\n"
      ],
      "text/plain": [
       "\u001b[1m Non-trainable params: \u001b[0m\u001b[38;5;34m0\u001b[0m (0.00 B)\n"
      ]
     },
     "metadata": {},
     "output_type": "display_data"
    }
   ],
   "source": [
    "# Import TensorFlow\n",
    "import tensorflow as tf\n",
    "\n",
    "# Define the number of classes\n",
    "num_classes = 9\n",
    "\n",
    "# Initialize CNN Model\n",
    "ShoeModel = tf.keras.models.Sequential()\n",
    "\n",
    "# Add an Input layer\n",
    "ShoeModel.add(tf.keras.layers.Input(shape=[150, 150, 3]))\n",
    "\n",
    "# First Convolution layer\n",
    "ShoeModel.add(tf.keras.layers.Conv2D(filters=16, kernel_size=3, activation='relu'))\n",
    "ShoeModel.add(tf.keras.layers.MaxPooling2D(pool_size=2, strides=2))\n",
    "\n",
    "# Second Convolution layer\n",
    "ShoeModel.add(tf.keras.layers.Conv2D(filters=32, kernel_size=3, activation='relu'))\n",
    "ShoeModel.add(tf.keras.layers.MaxPooling2D(pool_size=2, strides=2))\n",
    "\n",
    "# Third Convolution layer\n",
    "ShoeModel.add(tf.keras.layers.Conv2D(filters=64, kernel_size=3, activation='relu'))\n",
    "ShoeModel.add(tf.keras.layers.MaxPooling2D(pool_size=2, strides=2))\n",
    "\n",
    "# Flattening\n",
    "ShoeModel.add(tf.keras.layers.Flatten())\n",
    "\n",
    "# Fully connected Dense layer\n",
    "ShoeModel.add(tf.keras.layers.Dense(units=128, activation='relu'))\n",
    "ShoeModel.add(tf.keras.layers.Dropout(0.2))  # Dropout to prevent overfitting\n",
    "\n",
    "# Output layer\n",
    "ShoeModel.add(tf.keras.layers.Dense(units=num_classes, activation='softmax'))\n",
    "\n",
    "# Compile the model with a reduced learning rate\n",
    "ShoeModel.compile(\n",
    "    optimizer=tf.keras.optimizers.Adam(learning_rate=0.001),  # Decreased learning rate\n",
    "    loss='categorical_crossentropy',\n",
    "    metrics=['accuracy']\n",
    ")\n",
    "\n",
    "# Model Checkpoint to save the best model during training\n",
    "checkpoint = tf.keras.callbacks.ModelCheckpoint('best_model.keras', monitor='val_accuracy', save_best_only=True)\n",
    "\n",
    "# Summary of the model\n",
    "ShoeModel.summary()\n",
    "\n",
    "# Define early stopping callback\n",
    "early_stopping = tf.keras.callbacks.EarlyStopping(\n",
    "    monitor='val_loss',\n",
    "    patience=3,\n",
    "    restore_best_weights=True\n",
    ")\n"
   ]
  },
  {
   "cell_type": "markdown",
   "metadata": {
    "id": "MhPAdd53T2Mn"
   },
   "source": [
    "## Train Model"
   ]
  },
  {
   "cell_type": "code",
   "execution_count": 27,
   "metadata": {
    "colab": {
     "base_uri": "https://localhost:8080/",
     "height": 1000
    },
    "id": "G9fRQ4vJS3X7",
    "outputId": "b0cb6e7c-127d-4dd0-a848-793c3f09512d"
   },
   "outputs": [
    {
     "name": "stdout",
     "output_type": "stream",
     "text": [
      "Epoch 1/200\n",
      "\u001b[1m315/315\u001b[0m \u001b[32m━━━━━━━━━━━━━━━━━━━━\u001b[0m\u001b[37m\u001b[0m \u001b[1m281s\u001b[0m 879ms/step - accuracy: 0.2632 - loss: 2.0501 - val_accuracy: 0.3555 - val_loss: 1.7762\n",
      "Epoch 2/200\n",
      "\u001b[1m315/315\u001b[0m \u001b[32m━━━━━━━━━━━━━━━━━━━━\u001b[0m\u001b[37m\u001b[0m \u001b[1m280s\u001b[0m 883ms/step - accuracy: 0.3837 - loss: 1.7337 - val_accuracy: 0.3770 - val_loss: 1.6620\n",
      "Epoch 3/200\n",
      "\u001b[1m315/315\u001b[0m \u001b[32m━━━━━━━━━━━━━━━━━━━━\u001b[0m\u001b[37m\u001b[0m \u001b[1m275s\u001b[0m 869ms/step - accuracy: 0.4084 - loss: 1.6551 - val_accuracy: 0.4061 - val_loss: 1.6102\n",
      "Epoch 4/200\n",
      "\u001b[1m315/315\u001b[0m \u001b[32m━━━━━━━━━━━━━━━━━━━━\u001b[0m\u001b[37m\u001b[0m \u001b[1m278s\u001b[0m 875ms/step - accuracy: 0.4382 - loss: 1.5976 - val_accuracy: 0.4550 - val_loss: 1.5375\n",
      "Epoch 5/200\n",
      "\u001b[1m315/315\u001b[0m \u001b[32m━━━━━━━━━━━━━━━━━━━━\u001b[0m\u001b[37m\u001b[0m \u001b[1m316s\u001b[0m 858ms/step - accuracy: 0.4418 - loss: 1.5452 - val_accuracy: 0.4578 - val_loss: 1.5056\n",
      "Epoch 6/200\n",
      "\u001b[1m315/315\u001b[0m \u001b[32m━━━━━━━━━━━━━━━━━━━━\u001b[0m\u001b[37m\u001b[0m \u001b[1m271s\u001b[0m 856ms/step - accuracy: 0.4773 - loss: 1.4811 - val_accuracy: 0.4697 - val_loss: 1.4874\n",
      "Epoch 7/200\n",
      "\u001b[1m315/315\u001b[0m \u001b[32m━━━━━━━━━━━━━━━━━━━━\u001b[0m\u001b[37m\u001b[0m \u001b[1m277s\u001b[0m 871ms/step - accuracy: 0.4839 - loss: 1.4526 - val_accuracy: 0.4904 - val_loss: 1.4236\n",
      "Epoch 8/200\n",
      "\u001b[1m315/315\u001b[0m \u001b[32m━━━━━━━━━━━━━━━━━━━━\u001b[0m\u001b[37m\u001b[0m \u001b[1m283s\u001b[0m 894ms/step - accuracy: 0.5022 - loss: 1.4096 - val_accuracy: 0.5000 - val_loss: 1.4115\n",
      "Epoch 9/200\n",
      "\u001b[1m315/315\u001b[0m \u001b[32m━━━━━━━━━━━━━━━━━━━━\u001b[0m\u001b[37m\u001b[0m \u001b[1m273s\u001b[0m 856ms/step - accuracy: 0.5194 - loss: 1.3661 - val_accuracy: 0.5115 - val_loss: 1.3953\n",
      "Epoch 10/200\n",
      "\u001b[1m315/315\u001b[0m \u001b[32m━━━━━━━━━━━━━━━━━━━━\u001b[0m\u001b[37m\u001b[0m \u001b[1m320s\u001b[0m 856ms/step - accuracy: 0.5287 - loss: 1.3489 - val_accuracy: 0.5207 - val_loss: 1.3703\n",
      "Epoch 11/200\n",
      "\u001b[1m315/315\u001b[0m \u001b[32m━━━━━━━━━━━━━━━━━━━━\u001b[0m\u001b[37m\u001b[0m \u001b[1m273s\u001b[0m 863ms/step - accuracy: 0.5389 - loss: 1.3348 - val_accuracy: 0.5346 - val_loss: 1.3515\n",
      "Epoch 12/200\n",
      "\u001b[1m315/315\u001b[0m \u001b[32m━━━━━━━━━━━━━━━━━━━━\u001b[0m\u001b[37m\u001b[0m \u001b[1m272s\u001b[0m 857ms/step - accuracy: 0.5459 - loss: 1.3142 - val_accuracy: 0.5629 - val_loss: 1.2751\n",
      "Epoch 13/200\n",
      "\u001b[1m315/315\u001b[0m \u001b[32m━━━━━━━━━━━━━━━━━━━━\u001b[0m\u001b[37m\u001b[0m \u001b[1m322s\u001b[0m 859ms/step - accuracy: 0.5635 - loss: 1.2524 - val_accuracy: 0.5549 - val_loss: 1.2860\n",
      "Epoch 14/200\n",
      "\u001b[1m315/315\u001b[0m \u001b[32m━━━━━━━━━━━━━━━━━━━━\u001b[0m\u001b[37m\u001b[0m \u001b[1m272s\u001b[0m 853ms/step - accuracy: 0.5681 - loss: 1.2369 - val_accuracy: 0.5721 - val_loss: 1.2549\n",
      "Epoch 15/200\n",
      "\u001b[1m315/315\u001b[0m \u001b[32m━━━━━━━━━━━━━━━━━━━━\u001b[0m\u001b[37m\u001b[0m \u001b[1m273s\u001b[0m 862ms/step - accuracy: 0.5820 - loss: 1.2209 - val_accuracy: 0.5729 - val_loss: 1.2251\n",
      "Epoch 16/200\n",
      "\u001b[1m315/315\u001b[0m \u001b[32m━━━━━━━━━━━━━━━━━━━━\u001b[0m\u001b[37m\u001b[0m \u001b[1m271s\u001b[0m 854ms/step - accuracy: 0.5838 - loss: 1.1958 - val_accuracy: 0.5780 - val_loss: 1.2315\n",
      "Epoch 17/200\n",
      "\u001b[1m315/315\u001b[0m \u001b[32m━━━━━━━━━━━━━━━━━━━━\u001b[0m\u001b[37m\u001b[0m \u001b[1m323s\u001b[0m 857ms/step - accuracy: 0.5967 - loss: 1.1623 - val_accuracy: 0.5697 - val_loss: 1.2162\n",
      "Epoch 18/200\n",
      "\u001b[1m315/315\u001b[0m \u001b[32m━━━━━━━━━━━━━━━━━━━━\u001b[0m\u001b[37m\u001b[0m \u001b[1m272s\u001b[0m 858ms/step - accuracy: 0.5906 - loss: 1.1736 - val_accuracy: 0.5792 - val_loss: 1.1641\n",
      "Epoch 19/200\n",
      "\u001b[1m315/315\u001b[0m \u001b[32m━━━━━━━━━━━━━━━━━━━━\u001b[0m\u001b[37m\u001b[0m \u001b[1m273s\u001b[0m 858ms/step - accuracy: 0.5904 - loss: 1.1630 - val_accuracy: 0.5796 - val_loss: 1.2108\n",
      "Epoch 20/200\n",
      "\u001b[1m315/315\u001b[0m \u001b[32m━━━━━━━━━━━━━━━━━━━━\u001b[0m\u001b[37m\u001b[0m \u001b[1m321s\u001b[0m 859ms/step - accuracy: 0.6016 - loss: 1.1413 - val_accuracy: 0.5740 - val_loss: 1.2154\n",
      "Epoch 21/200\n",
      "\u001b[1m315/315\u001b[0m \u001b[32m━━━━━━━━━━━━━━━━━━━━\u001b[0m\u001b[37m\u001b[0m \u001b[1m325s\u001b[0m 864ms/step - accuracy: 0.6043 - loss: 1.1408 - val_accuracy: 0.6031 - val_loss: 1.1628\n",
      "Epoch 22/200\n",
      "\u001b[1m315/315\u001b[0m \u001b[32m━━━━━━━━━━━━━━━━━━━━\u001b[0m\u001b[37m\u001b[0m \u001b[1m273s\u001b[0m 862ms/step - accuracy: 0.6130 - loss: 1.1257 - val_accuracy: 0.5864 - val_loss: 1.1942\n",
      "Epoch 23/200\n",
      "\u001b[1m315/315\u001b[0m \u001b[32m━━━━━━━━━━━━━━━━━━━━\u001b[0m\u001b[37m\u001b[0m \u001b[1m272s\u001b[0m 860ms/step - accuracy: 0.6223 - loss: 1.0987 - val_accuracy: 0.5951 - val_loss: 1.1907\n",
      "Epoch 24/200\n",
      "\u001b[1m315/315\u001b[0m \u001b[32m━━━━━━━━━━━━━━━━━━━━\u001b[0m\u001b[37m\u001b[0m \u001b[1m284s\u001b[0m 898ms/step - accuracy: 0.6304 - loss: 1.0730 - val_accuracy: 0.5701 - val_loss: 1.1940\n"
     ]
    },
    {
     "data": {
      "image/png": "[encoded data removed]",
      "text/plain": [
       "<Figure size 640x480 with 1 Axes>"
      ]
     },
     "metadata": {},
     "output_type": "display_data"
    }
   ],
   "source": [
    "# Fit the model (example usage)\n",
    "history = ShoeModel.fit(x=train_data, validation_data=val_data, epochs=200, callbacks=[early_stopping, checkpoint])\n",
    "\n",
    "# Plot training and validation loss\n",
    "plt.plot(history.history['loss'], label='Training Loss')\n",
    "plt.plot(history.history['val_loss'], label='Validation Loss')\n",
    "plt.title(\"Training and Validation Loss\")\n",
    "plt.xlabel(\"Epochs\")\n",
    "plt.ylabel(\"Loss\")\n",
    "plt.legend()\n",
    "plt.show()"
   ]
  },
  {
   "cell_type": "markdown",
   "metadata": {},
   "source": [
    "**Overall Trend:** Both the training and validation loss are decreasing over epochs, which is a good sign that the model is learning.\n",
    "\n",
    "**Validation Loss Behavior:** Around epoch 15, the validation loss starts to stabilize or even slightly increase while the training loss continues to decrease. This could indicate some overfitting."
   ]
  },
  {
   "cell_type": "markdown",
   "metadata": {
    "id": "4VrZsNlT3xkN"
   },
   "source": [
    "# Test Model"
   ]
  },
  {
   "cell_type": "code",
   "execution_count": 7,
   "metadata": {
    "colab": {
     "base_uri": "https://localhost:8080/"
    },
    "id": "tdt7SB8Z3xkN",
    "outputId": "76fb7da0-2fe2-4397-8d86-e682e7e18744"
   },
   "outputs": [
    {
     "name": "stdout",
     "output_type": "stream",
     "text": [
      "\u001b[1m79/79\u001b[0m \u001b[32m━━━━━━━━━━━━━━━━━━━━\u001b[0m\u001b[37m\u001b[0m \u001b[1m30s\u001b[0m 383ms/step - accuracy: 0.5791 - loss: 1.2197\n",
      "Accuracy: 58.24%\n"
     ]
    }
   ],
   "source": [
    "accuracy = ShoeModel.evaluate(val_data)\n",
    "print(f\"Accuracy: {accuracy[1]*100:.2f}%\")"
   ]
  },
  {
   "cell_type": "markdown",
   "metadata": {
    "id": "lzrmq2Pd2K29"
   },
   "source": [
    "I tried to train the model on Google Colab on a GPU but it still took a couple hours. This is the best accuracy I got with 12000 images and less than 2 hours of training.\n",
    "\n",
    "a) Data-Related Issues:\n",
    "\n",
    "While 10,000 images is a decent size, if they're split across 9 shoe categories, that's only ~1,100 images per class\n",
    "Possible class imbalance in your dataset\n",
    "Image quality and variety might be limited\n",
    "Complex variations within each shoe category might not be well represented\n",
    "\n",
    "b) Model Architecture Limitations:\n",
    "\n",
    "The current architecture might be too simple for the complexity of shoe classification\n",
    "Three convolutional layers might not be enough to capture all necessary features\n",
    "The model has relatively few filters (16, 32, 64) which might limit feature detection\n",
    "\n",
    "c) Training Parameters:\n",
    "\n",
    "Learning rate of 0.001 is reasonable but might need fine-tuning\n",
    "Early stopping at patience=3 might be too aggressive for this problem\n",
    "The model stopped at epoch 25 out of 200, suggesting it hit a local minimum"
   ]
  },
  {
   "cell_type": "markdown",
   "metadata": {
    "id": "zrxMUa_Tt6fx"
   },
   "source": [
    "# Predicting the Personality type\n",
    "\n"
   ]
  },
  {
   "cell_type": "code",
   "execution_count": 29,
   "metadata": {
    "id": "XTjFPQdnygqy"
   },
   "outputs": [],
   "source": [
    "import numpy as np\n",
    "import pandas as pd\n",
    "import matplotlib.pyplot as plt\n",
    "import seaborn as sns\n",
    "\n",
    "class ShoePersonalityMapper:\n",
    "    def __init__(self):\n",
    "        # Define shoe types to personality traits mapping\n",
    "        self.shoe_personality_map = {\n",
    "            'Sneakers and Athletic Shoes': {\n",
    "                'traits': {\n",
    "                    'Energetic': 0.9,\n",
    "                    'Goal-oriented': 0.8,\n",
    "                    'Health-conscious': 0.7,\n",
    "                    'Active': 0.9,\n",
    "                    'Practical': 0.6\n",
    "                },\n",
    "                'description': 'You are an energetic person who values fitness and achievement.'\n",
    "            },\n",
    "            'Oxfords': {\n",
    "                'traits': {\n",
    "                    'Professional': 0.9,\n",
    "                    'Traditional': 0.7,\n",
    "                    'Detail-oriented': 0.8,\n",
    "                    'Status-conscious': 0.6,\n",
    "                    'Organized': 0.7\n",
    "                },\n",
    "                'description': 'You value professionalism and take pride in your appearance.'\n",
    "            },\n",
    "            'Clogs and Mules': {\n",
    "                'traits': {\n",
    "                    'Laid-back': 0.9,\n",
    "                    'Comfortable': 0.8,\n",
    "                    'Adaptable': 0.7,\n",
    "                    'Practical': 0.8,\n",
    "                    'Approachable': 0.7\n",
    "                },\n",
    "                'description': 'You prioritize comfort and have a relaxed, adaptable personality.'\n",
    "            },\n",
    "            'Heels': {\n",
    "                'traits': {\n",
    "                    'Status-conscious': 0.9,\n",
    "                    'Fashion-forward': 0.8,\n",
    "                    'Quality-oriented': 0.8,\n",
    "                    'Sophisticated': 0.7,\n",
    "                    'Image-conscious': 0.9\n",
    "                },\n",
    "                'description': 'You appreciate quality and have refined tastes.'\n",
    "            },\n",
    "            'Flats': {\n",
    "                'traits': {\n",
    "                    'Efficient': 0.8,\n",
    "                    'Modern': 0.7,\n",
    "                    'Sophisticated': 0.6,\n",
    "                    'Practical': 0.9,\n",
    "                    'Clear-minded': 0.7\n",
    "                },\n",
    "                'description': 'You value simplicity and efficiency in your life.'\n",
    "            },\n",
    "            'Boots': {\n",
    "                'traits': {\n",
    "                    'Rugged': 0.8,\n",
    "                    'Practical': 0.9,\n",
    "                    'Independent': 0.7,\n",
    "                    'Outdoorsy': 0.8,\n",
    "                    'Reliable': 0.7\n",
    "                },\n",
    "                'description': 'You are practical and value reliability in your endeavors.'\n",
    "            },\n",
    "            'Slippers': {\n",
    "                'traits': {\n",
    "                    'Relaxed': 0.9,\n",
    "                    'Easy-going': 0.8,\n",
    "                    'Nature-loving': 0.7,\n",
    "                    'Free-spirited': 0.8,\n",
    "                    'Comfortable': 0.9\n",
    "                },\n",
    "                'description': 'You have a free-spirited nature and value comfort.'\n",
    "            },\n",
    "            'Loafers': {\n",
    "                'traits': {\n",
    "                    'Traditional': 0.9,\n",
    "                    'Reliable': 0.8,\n",
    "                    'Consistent': 0.8,\n",
    "                    'Tasteful': 0.7,\n",
    "                    'Practical': 0.6\n",
    "                },\n",
    "                'description': 'You appreciate timeless values and consistency.'\n",
    "            },\n",
    "            'Boat Shoes': {\n",
    "                'traits': {\n",
    "                    'Fashion-conscious': 0.6,\n",
    "                    'Social': 0.8,\n",
    "                    'Creative': 0.7,\n",
    "                    'Expressive': 0.8,\n",
    "                    'Dynamic': 0.9\n",
    "                },\n",
    "                'description': 'You are socially aware and enjoy expressing yourself.'\n",
    "            }\n",
    "        }\n",
    "\n",
    "    def get_personality(self, shoe_type):\n",
    "        \"\"\"\n",
    "        Get personality traits for a specific shoe type\n",
    "        \"\"\"\n",
    "        if shoe_type in self.shoe_personality_map:\n",
    "            return self.shoe_personality_map[shoe_type]\n",
    "        return None\n",
    "\n",
    "    def analyze_shoe_prediction(self, model_prediction, class_names):\n",
    "        \"\"\"\n",
    "        Analyze model prediction and return personality analysis\n",
    "\n",
    "        Parameters:\n",
    "        model_prediction: numpy array of probabilities for each shoe type\n",
    "        class_names: list of shoe type names corresponding to model output\n",
    "        \"\"\"\n",
    "        # Get the top 3 predictions\n",
    "        top_3_idx = np.argsort(model_prediction)[-3:][::-1]\n",
    "\n",
    "        analysis = {\n",
    "            'primary_shoe': class_names[top_3_idx[0]],\n",
    "            'confidence': float(model_prediction[top_3_idx[0]]),\n",
    "            'personality_profile': {},\n",
    "            'description': '',\n",
    "            'secondary_influences': []\n",
    "        }\n",
    "\n",
    "        # Get primary personality profile\n",
    "        primary_profile = self.get_personality(analysis['primary_shoe'])\n",
    "        if primary_profile:\n",
    "            analysis['personality_profile'] = primary_profile['traits']\n",
    "            analysis['description'] = primary_profile['description']\n",
    "\n",
    "        # Add influence from secondary predictions\n",
    "        for idx in top_3_idx[1:]:\n",
    "            shoe_type = class_names[idx]\n",
    "            confidence = float(model_prediction[idx])\n",
    "            if confidence > 0.1:  # Only consider secondary predictions with >10% confidence\n",
    "                analysis['secondary_influences'].append({\n",
    "                    'shoe_type': shoe_type,\n",
    "                    'confidence': confidence,\n",
    "                    'traits': self.get_personality(shoe_type)['traits']\n",
    "                })\n",
    "\n",
    "        return analysis\n",
    "\n",
    "    def visualize_personality_traits(self, analysis):\n",
    "        \"\"\"\n",
    "        Create a visualization of the personality traits\n",
    "        \"\"\"\n",
    "        plt.figure(figsize=(10, 6))\n",
    "\n",
    "        traits = list(analysis['personality_profile'].keys())\n",
    "        values = list(analysis['personality_profile'].values())\n",
    "\n",
    "        # Create bar plot\n",
    "        sns.barplot(x=values, y=traits)\n",
    "        plt.title(f'Personality Trait Profile - {analysis[\"primary_shoe\"]} ({analysis[\"confidence\"]:.2%} confidence)')\n",
    "        plt.xlabel('Trait Strength')\n",
    "\n",
    "        plt.tight_layout()\n",
    "        plt.show()\n",
    "\n",
    "# Example usage:\n",
    "def analyze_shoe_image(image_path, model, mapper):\n",
    "    \"\"\"\n",
    "    Analyze a shoe image and return personality traits\n",
    "    \"\"\"\n",
    "    # Prepare the image\n",
    "    img = tf.keras.preprocessing.image.load_img(\n",
    "        image_path, target_size=(150, 150)\n",
    "    )\n",
    "    img_array = tf.keras.preprocessing.image.img_to_array(img)\n",
    "    img_array = np.expand_dims(img_array, 0)\n",
    "    img_array = img_array / 255.0\n",
    "\n",
    "    # Get model prediction\n",
    "    prediction = model.predict(img_array)[0]\n",
    "\n",
    "    # Define your class names in the same order as model output\n",
    "    class_names = ['Boat Shoes', 'Boots', 'Clogs and Mules', 'Flats', 'Heels', 'Loafers', 'Oxfords', 'Slippers', 'Sneakers']\n",
    "\n",
    "    # Get personality analysis\n",
    "    analysis = mapper.analyze_shoe_prediction(prediction, class_names)\n",
    "\n",
    "    return analysis\n"
   ]
  },
  {
   "cell_type": "code",
   "execution_count": 30,
   "metadata": {
    "colab": {
     "base_uri": "https://localhost:8080/",
     "height": 815
    },
    "id": "wLWmOIthysu8",
    "outputId": "4fc2a4ca-37b8-4a30-ec0f-fbfe93b9770d"
   },
   "outputs": [
    {
     "name": "stdout",
     "output_type": "stream",
     "text": [
      "\u001b[1m1/1\u001b[0m \u001b[32m━━━━━━━━━━━━━━━━━━━━\u001b[0m\u001b[37m\u001b[0m \u001b[1m0s\u001b[0m 68ms/step\n",
      "Primary Shoe Type: Boots (99.96% confidence)\n",
      "\n",
      "Personality Profile:\n",
      "You are practical and value reliability in your endeavors.\n",
      "\n",
      "Key Traits:\n",
      "- Rugged: 80.00%\n",
      "- Practical: 90.00%\n",
      "- Independent: 70.00%\n",
      "- Outdoorsy: 80.00%\n",
      "- Reliable: 70.00%\n"
     ]
    },
    {
     "data": {
      "image/png": "[encoded data removed]",
      "text/plain": [
       "<Figure size 1000x600 with 1 Axes>"
      ]
     },
     "metadata": {},
     "output_type": "display_data"
    }
   ],
   "source": [
    "# Make a prediction\n",
    "# Create mapper instance\n",
    "mapper = ShoePersonalityMapper()\n",
    "\n",
    "# Load image and get analysis\n",
    "image_path = '101026.3.jpg'\n",
    "analysis = analyze_shoe_image(image_path, ShoeModel, mapper)\n",
    "\n",
    "# Print results\n",
    "print(f\"Primary Shoe Type: {analysis['primary_shoe']} ({analysis['confidence']:.2%} confidence)\")\n",
    "print(\"\\nPersonality Profile:\")\n",
    "print(analysis['description'])\n",
    "print(\"\\nKey Traits:\")\n",
    "for trait, strength in analysis['personality_profile'].items():\n",
    "    print(f\"- {trait}: {strength:.2%}\")\n",
    "\n",
    "# Visualize traits\n",
    "mapper.visualize_personality_traits(analysis)"
   ]
  },
  {
   "cell_type": "markdown",
   "metadata": {
    "id": "GnYPEo4A9vQK"
   },
   "source": [
    "# Conclusion\n",
    "\n",
    "The model uses a CNN to predict the type of shoe based on an image, then map the type of shoe to a personality type according to personality traits. The mapping uses a confusion matrix to determine how confident the model is in predicting personality type and which trait is more likely to be observed as well."
   ]
  }
 ],
 "metadata": {
  "colab": {
   "provenance": []
  },
  "kernelspec": {
   "display_name": "Python 3",
   "name": "python3"
  },
  "language_info": {
   "codemirror_mode": {
    "name": "ipython",
    "version": 3
   },
   "file_extension": ".py",
   "mimetype": "text/x-python",
   "name": "python",
   "nbconvert_exporter": "python",
   "pygments_lexer": "ipython3",
   "version": "3.9.13"
  }
 },
 "nbformat": 4,
 "nbformat_minor": 0
}
